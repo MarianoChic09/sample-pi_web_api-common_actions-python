{
 "cells": [
  {
   "cell_type": "code",
   "execution_count": 1,
   "metadata": {},
   "outputs": [],
   "source": [
    "# !pip install requests-kerberos"
   ]
  },
  {
   "cell_type": "code",
   "execution_count": 2,
   "metadata": {},
   "outputs": [],
   "source": [
    "# !pip install -r requirements.txt"
   ]
  },
  {
   "cell_type": "code",
   "execution_count": 14,
   "metadata": {},
   "outputs": [],
   "source": [
    "import json\n",
    "import getpass\n",
    "import requests\n",
    "from urllib.parse import urlparse\n",
    "\n",
    "OSI_AF_ATTRIBUTE_TAG = 'Estado'\n",
    "OSI_AF_DATABASE = 'PAE'\n",
    "OSI_AF_ELEMENT = 'DLS-339'\n",
    "\n",
    "\n",
    "def call_headers(include_content_type):\n",
    "    \"\"\" Create API call headers\n",
    "        @includeContentType boolean: Flag determines whether or not the\n",
    "        content-type header is included\n",
    "    \"\"\"\n",
    "    if include_content_type is True:\n",
    "        header = {\n",
    "            'content-type': 'application/json',\n",
    "            'X-Requested-With': 'XmlHttpRequest'\n",
    "        }\n",
    "    else:\n",
    "        header = {\n",
    "            'X-Requested-With': 'XmlHttpRequest'\n",
    "        }\n",
    "\n",
    "    return header\n",
    "\n",
    "\n",
    "def call_security_method(security_method, user_name, user_password):\n",
    "    \"\"\" Create API call security method\n",
    "        @param security_method string: Security method to use: basic or kerberos\n",
    "        @param user_name string: The user's credentials name\n",
    "        @param user_password string: The user's credentials password\n",
    "    \"\"\"\n",
    "    from requests.auth import HTTPBasicAuth\n",
    "    from requests_kerberos import HTTPKerberosAuth\n",
    "\n",
    "    if security_method.lower() == 'basic':\n",
    "        security_auth = HTTPBasicAuth(user_name, user_password)\n",
    "    else:\n",
    "        security_auth = HTTPKerberosAuth(mutual_authentication='REQUIRED',\n",
    "                                         sanitize_mutual_error_response=False)\n",
    "\n",
    "    return security_auth\n",
    "\n",
    "\n",
    "def read_attribute_snapshot(piwebapi_url, asset_server, user_name, user_password,\n",
    "                            piwebapi_security_method, verify_ssl):\n",
    "    \"\"\" Read a single value\n",
    "        @param piwebapi_url string: The URL of the PI Web API\n",
    "        @param asset_server string: Name of the Asset Server\n",
    "        @param user_name string: The user's credentials name\n",
    "        @param user_password string: The user's credentials password\n",
    "        @param piwebapi_security_method string: Security method: basic or kerberos\n",
    "        @param verify_ssl: If certificate verification will be performed\n",
    "    \"\"\"\n",
    "    print('readAttributeSnapshot')\n",
    "\n",
    "    #  create security method - basic or kerberos\n",
    "    security_method = call_security_method(\n",
    "        piwebapi_security_method, user_name, user_password)\n",
    "\n",
    "    #  Get the sample tag\n",
    "    request_url = '{}/attributes?path=\\\\\\\\{}\\\\{}\\\\{}|{}'.format(\n",
    "        piwebapi_url, asset_server, OSI_AF_DATABASE, OSI_AF_ELEMENT, OSI_AF_ATTRIBUTE_TAG)\n",
    "    print(request_url)\n",
    "    response = requests.get(request_url, auth=security_method, verify=verify_ssl)\n",
    "\n",
    "    #  Only continue if the first request was successful\n",
    "    if response.status_code == 200:\n",
    "        print(response.text)\n",
    "        #  Deserialize the JSON Response\n",
    "        data = json.loads(response.text)\n",
    "\n",
    "        url = urlparse(piwebapi_url + '/streams/' + data['WebId'] + '/value')\n",
    "        # Validate URL\n",
    "        assert url.scheme == 'https'\n",
    "        assert url.geturl().startswith(piwebapi_url)\n",
    "\n",
    "        #  Read the single stream value\n",
    "        response = requests.get(url.geturl(),\n",
    "                                auth=security_method, verify=verify_ssl)\n",
    "\n",
    "        if response.status_code == 200:\n",
    "            print('{} Snapshot Value'.format(OSI_AF_ATTRIBUTE_TAG))\n",
    "            print(json.dumps(json.loads(response.text), indent=4, sort_keys=True))\n",
    "        else:\n",
    "            print(response.status_code, response.reason, response.text)\n",
    "    else:\n",
    "        print(response.status_code, response.reason, response.text)\n",
    "    return response.status_code"
   ]
  },
  {
   "cell_type": "code",
   "execution_count": 30,
   "metadata": {},
   "outputs": [
    {
     "name": "stdout",
     "output_type": "stream",
     "text": [
      "readAttributeSnapshot\n",
      "401 Unauthorized {\"Message\":\"Authorization has been denied for this request.\"}\n",
      "basic\n"
     ]
    }
   ],
   "source": [
    "%run appsettings.py\n",
    "import os\n",
    "os.environ['REQUESTS_CA_BUNDLE'] = r\"C:\\Users\\scruple077\\Documents\\Certificates\\pi-web-api-certificate.pem\"\n",
    "\n",
    "read_attribute_snapshot(PIWEBAPI_URL,AF_SERVER_NAME,USER_NAME,USER_PASSWORD,AUTH_TYPE,VERIFY_SSL)\n",
    "print(AUTH_TYPE)"
   ]
  },
  {
   "cell_type": "code",
   "execution_count": 29,
   "metadata": {},
   "outputs": [
    {
     "data": {
      "text/plain": [
       "True"
      ]
     },
     "execution_count": 29,
     "metadata": {},
     "output_type": "execute_result"
    }
   ],
   "source": [
    "VERIFY_SSL"
   ]
  },
  {
   "cell_type": "code",
   "execution_count": null,
   "metadata": {},
   "outputs": [],
   "source": [
    "import os\n",
    "import openai\n",
    "\n",
    "openai.api_key = input('')#os.getenv(input('Enter your OpenAI API key: '))\n",
    "\n",
    "response = openai.Completion.create(\n",
    "  model=\"text-davinci-003\",\n",
    "  prompt=\"\\\"\\\"\\\"\\n1. Create a list of first names\\n2. Create a list of last names\\n3. Combine them randomly into a list of 100 full names\\n\\\"\\\"\\\"\",\n",
    "  temperature=1,\n",
    "  max_tokens=300,\n",
    "  top_p=1,\n",
    "  frequency_penalty=0,\n",
    "  presence_penalty=0)"
   ]
  },
  {
   "cell_type": "code",
   "execution_count": null,
   "metadata": {},
   "outputs": [],
   "source": [
    "import base64\n",
    "\n",
    "# Your username and password\n",
    "username = 'mchicatun'\n",
    "password = 'Justthewayyouare10'\n",
    "\n",
    "# Encode the username and password\n",
    "credentials = base64.b64encode(f'{username}:{password}'.encode('utf-8')).decode('utf-8')\n",
    "\n",
    "# Headers for the API request\n",
    "headers = {\n",
    "    'Authorization': f'Basic {credentials}'\n",
    "}\n"
   ]
  },
  {
   "cell_type": "code",
   "execution_count": 16,
   "metadata": {},
   "outputs": [
    {
     "ename": "NameError",
     "evalue": "name 'openai' is not defined",
     "output_type": "error",
     "traceback": [
      "\u001b[1;31m---------------------------------------------------------------------------\u001b[0m",
      "\u001b[1;31mNameError\u001b[0m                                 Traceback (most recent call last)",
      "Cell \u001b[1;32mIn[16], line 7\u001b[0m\n\u001b[0;32m      4\u001b[0m \u001b[39mfrom\u001b[39;00m \u001b[39mlangchain\u001b[39;00m\u001b[39m.\u001b[39;00m\u001b[39mllms\u001b[39;00m \u001b[39mimport\u001b[39;00m OpenAI\n\u001b[0;32m      6\u001b[0m \u001b[39m# Initialize OpenAI's DaVinci model\u001b[39;00m\n\u001b[1;32m----> 7\u001b[0m llm \u001b[39m=\u001b[39m OpenAI(openai_api_key\u001b[39m=\u001b[39mopenai\u001b[39m.\u001b[39mapi_key)\u001b[39m#, engine='text-davinci-003')\u001b[39;00m\n\u001b[0;32m      8\u001b[0m os\u001b[39m.\u001b[39menviron[\u001b[39m'\u001b[39m\u001b[39mREQUESTS_CA_BUNDLE\u001b[39m\u001b[39m'\u001b[39m] \u001b[39m=\u001b[39m \u001b[39mr\u001b[39m\u001b[39m\"\u001b[39m\u001b[39mC:\u001b[39m\u001b[39m\\\u001b[39m\u001b[39mUsers\u001b[39m\u001b[39m\\\u001b[39m\u001b[39mscruple077\u001b[39m\u001b[39m\\\u001b[39m\u001b[39mDocuments\u001b[39m\u001b[39m\\\u001b[39m\u001b[39mCertificates\u001b[39m\u001b[39m\\\u001b[39m\u001b[39mpi-web-api-certificate.pem\u001b[39m\u001b[39m\"\u001b[39m\n\u001b[0;32m     10\u001b[0m \u001b[39m# API documentation as a string\u001b[39;00m\n\u001b[0;32m     11\u001b[0m \u001b[39m# api_docs = \"https://docs.aveva.com/bundle/pi-web-api/page/1023070.html\"  # Replace with your actual API documentation\u001b[39;00m\n",
      "\u001b[1;31mNameError\u001b[0m: name 'openai' is not defined"
     ]
    }
   ],
   "source": [
    "from langchain.chains import APIChain\n",
    "from langchain import LLMChain#, TextRequestsWrapper\n",
    "from langchain.chains.api.prompt import API_URL_PROMPT, API_RESPONSE_PROMPT\n",
    "from langchain.llms import OpenAI\n",
    "\n",
    "# Initialize OpenAI's DaVinci model\n",
    "llm = OpenAI(openai_api_key=openai.api_key)#, engine='text-davinci-003')\n",
    "os.environ['REQUESTS_CA_BUNDLE'] = r\"C:\\Users\\scruple077\\Documents\\Certificates\\pi-web-api-certificate.pem\"\n",
    "\n",
    "# API documentation as a string\n",
    "# api_docs = \"https://docs.aveva.com/bundle/pi-web-api/page/1023070.html\"  # Replace with your actual API documentation\n",
    "api_docs = \"https://adetechindustrial.ddns.net/piwebapi\"\n",
    "# Headers for the API request\n",
    "# headers = {\n",
    "#     \"Authorization\": \"Bearer your-api-key\"\n",
    "# }\n",
    "\n",
    "# Initialize the APIChain\n",
    "chain = APIChain.from_llm_and_api_docs(\n",
    "    llm=llm,\n",
    "    api_docs=api_docs,\n",
    "    headers=headers,\n",
    "    api_url_prompt=API_URL_PROMPT,\n",
    "    api_response_prompt=API_RESPONSE_PROMPT\n",
    ")\n",
    "\n",
    "# Ask a question about the data\n",
    "inputs = {\n",
    "    \"question\": \"Bring the first ten elements in PI Asset Framework\"\n",
    "}\n",
    "response = chain._call(inputs)\n",
    "\n",
    "# Print the response\n",
    "print(response)"
   ]
  }
 ],
 "metadata": {
  "kernelspec": {
   "display_name": "Chatbot",
   "language": "python",
   "name": "python3"
  },
  "language_info": {
   "codemirror_mode": {
    "name": "ipython",
    "version": 3
   },
   "file_extension": ".py",
   "mimetype": "text/x-python",
   "name": "python",
   "nbconvert_exporter": "python",
   "pygments_lexer": "ipython3",
   "version": "3.8.16"
  },
  "orig_nbformat": 4
 },
 "nbformat": 4,
 "nbformat_minor": 2
}
